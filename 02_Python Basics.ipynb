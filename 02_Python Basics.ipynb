{
 "cells": [
  {
   "cell_type": "markdown",
   "metadata": {},
   "source": [
    "## 02 Python Basics"
   ]
  },
  {
   "cell_type": "markdown",
   "metadata": {},
   "source": [
    "### Search through dict values"
   ]
  },
  {
   "cell_type": "code",
   "execution_count": 20,
   "metadata": {
    "collapsed": false
   },
   "outputs": [
    {
     "name": "stdout",
     "output_type": "stream",
     "text": [
      "Valid pin\n",
      "Sashi\n"
     ]
    }
   ],
   "source": [
    "pins = {'Jack': 1234, \n",
    "        'Bernice': 5678,\n",
    "        'Sashi': 9999}\n",
    "\n",
    "my_pin = 9999\n",
    "\n",
    "if my_pin in pins.values():\n",
    "    print('Valid pin')\n",
    "    \n",
    "for k, v in pins.items():\n",
    "    if my_pin == v:\n",
    "        print(k)"
   ]
  },
  {
   "cell_type": "markdown",
   "metadata": {},
   "source": [
    "### Convert Farhenheit to Celsius"
   ]
  },
  {
   "cell_type": "code",
   "execution_count": 4,
   "metadata": {
    "collapsed": false
   },
   "outputs": [
    {
     "data": {
      "text/plain": [
       "50.0"
      ]
     },
     "execution_count": 4,
     "metadata": {},
     "output_type": "execute_result"
    }
   ],
   "source": [
    "def degree_converter(celsius):\n",
    "    return (celsius*9/5) + 32\n",
    "\n",
    "degree_converter(10)"
   ]
  },
  {
   "cell_type": "markdown",
   "metadata": {},
   "source": [
    "### Fail function if inverter passed in as arg"
   ]
  },
  {
   "cell_type": "code",
   "execution_count": 6,
   "metadata": {
    "collapsed": false
   },
   "outputs": [
    {
     "name": "stdout",
     "output_type": "stream",
     "text": [
      "6\n",
      "Sorry variable needs to be a string\n"
     ]
    }
   ],
   "source": [
    "def string_length(my_str):\n",
    "    if not type(my_str) is str:\n",
    "        return 'Sorry variable needs to be a string'\n",
    "    else:\n",
    "        return len(my_str)\n",
    "\n",
    "print(string_length('twenty'))\n",
    "print(string_length(20))"
   ]
  },
  {
   "cell_type": "code",
   "execution_count": 8,
   "metadata": {
    "collapsed": false
   },
   "outputs": [
    {
     "data": {
      "text/plain": [
       "(50.0, 'This is below absolute zero')"
      ]
     },
     "execution_count": 8,
     "metadata": {},
     "output_type": "execute_result"
    }
   ],
   "source": [
    "def abs_degree_converter(celsius):\n",
    "    \n",
    "    if celsius >= -273.15:\n",
    "        return (celsius*9/5) + 32\n",
    "    else:\n",
    "        return 'This is below absolute zero'\n",
    "\n",
    "abs_degree_converter(10), abs_degree_converter(-280)"
   ]
  },
  {
   "cell_type": "markdown",
   "metadata": {},
   "source": [
    "### Read text file line by line"
   ]
  },
  {
   "cell_type": "code",
   "execution_count": 14,
   "metadata": {
    "collapsed": false
   },
   "outputs": [
    {
     "data": {
      "text/plain": [
       "['apple', 'orange', 'banana']"
      ]
     },
     "execution_count": 14,
     "metadata": {},
     "output_type": "execute_result"
    }
   ],
   "source": [
    "with open('sample.txt') as f:\n",
    "    words = f.readlines()\n",
    "\n",
    "words = [w.strip('\\n') for w in words]\n",
    "words"
   ]
  },
  {
   "cell_type": "code",
   "execution_count": 23,
   "metadata": {
    "collapsed": false
   },
   "outputs": [
    {
     "name": "stdout",
     "output_type": "stream",
     "text": [
      "('pear', 4)\n",
      "('apple', 5)\n",
      "('orange', 6)\n",
      "('mandarin', 8)\n",
      "('watermelon', 10)\n",
      "('pomegranate', 11)\n"
     ]
    }
   ],
   "source": [
    "word_list = []\n",
    "with open('fruits.txt', 'r') as f:\n",
    "    for line in f:\n",
    "        fruit = line.strip('\\n')\n",
    "        word_list.append((fruit, len(fruit)))\n",
    "\n",
    "        print(*word_list, sep='\\n')"
   ]
  },
  {
   "cell_type": "markdown",
   "metadata": {},
   "source": [
    "### Write text file"
   ]
  },
  {
   "cell_type": "code",
   "execution_count": 50,
   "metadata": {
    "collapsed": false
   },
   "outputs": [
    {
     "name": "stdout",
     "output_type": "stream",
     "text": [
      "Title: \n",
      "These are the fruits and their lengths \n",
      "\n"
     ]
    }
   ],
   "source": [
    "with open('fruit_lengths.txt', 'w') as f:\n",
    "    f.write('These are the fruits and their lengths \\n')\n",
    "\n",
    "with open('fruit_lengths.txt', 'r') as n:\n",
    "    word_list_read = n.read()\n",
    "    \n",
    "words = [w.strip() for w in words]\n",
    "\n",
    "print('Title: \\n{}'.format(word_list_read))"
   ]
  },
  {
   "cell_type": "markdown",
   "metadata": {},
   "source": [
    "### Append text file"
   ]
  },
  {
   "cell_type": "code",
   "execution_count": 51,
   "metadata": {
    "collapsed": false
   },
   "outputs": [
    {
     "name": "stdout",
     "output_type": "stream",
     "text": [
      "These are the fruits and their lengths\n",
      "pear 4\n",
      "apple 5\n",
      "orange 6\n",
      "mandarin 8\n",
      "watermelon 10\n",
      "pomegranate 11\n"
     ]
    }
   ],
   "source": [
    "with open('fruit_lengths.txt', 'a') as f:\n",
    "    for word in word_list:\n",
    "        combi = ' '.join([word[0], str(word[1]), '\\n'])\n",
    "        f.write(combi)\n",
    "        \n",
    "with open('fruit_lengths.txt', 'r') as n:\n",
    "    word_list_read = n.readlines()\n",
    "    \n",
    "words = [w.strip() for w in word_list_read]\n",
    "\n",
    "for w in words:\n",
    "    print(w)"
   ]
  },
  {
   "cell_type": "code",
   "execution_count": null,
   "metadata": {
    "collapsed": true
   },
   "outputs": [],
   "source": []
  },
  {
   "cell_type": "code",
   "execution_count": null,
   "metadata": {
    "collapsed": true
   },
   "outputs": [],
   "source": []
  }
 ],
 "metadata": {
  "anaconda-cloud": {},
  "kernelspec": {
   "display_name": "Python [conda root]",
   "language": "python",
   "name": "conda-root-py"
  },
  "language_info": {
   "codemirror_mode": {
    "name": "ipython",
    "version": 3
   },
   "file_extension": ".py",
   "mimetype": "text/x-python",
   "name": "python",
   "nbconvert_exporter": "python",
   "pygments_lexer": "ipython3",
   "version": "3.5.2"
  }
 },
 "nbformat": 4,
 "nbformat_minor": 1
}
